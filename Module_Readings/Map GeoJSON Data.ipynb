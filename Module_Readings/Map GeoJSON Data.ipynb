{
 "cells": [
  {
   "cell_type": "raw",
   "metadata": {},
   "source": [
    "13.5.1 Overview of GeoJSON Data\n",
    "\n",
    "GeoJSON data is a type of JavaScript Object Notation (JSON) data that is specifically designed to host geographical information.\n",
    "\n",
    "GeoJSON data consists of a single object, which can be represented by a geometry object, features object, or collection of features (FeatureCollection object). Let's review these GeoJSON objects in more detail.\n",
    "\n"
   ]
  },
  {
   "cell_type": "raw",
   "metadata": {},
   "source": [
    "Geometry Object\n",
    "A GeoJSON geometry object is where the type member's value is one of the following strings: Point, MultiPoint, LineString, MultiLineString, Polygon, MultiPolygon, or GeometryCollection.\n",
    "\n",
    "Geometry object types include the following:\n",
    "\n",
    "Point has a single set of coordinates, like when we mapped a single marker to the map.\n",
    "\n",
    "\"geometry\":{\n",
    "  \"type\":\"Point\",\n",
    "  \"coordinates\": [-118.4, 33.9]\n",
    "  }\n",
    "  \n",
    "MultiPoint is an array of point coordinates, like when we mapped multiple cities with their population to a map.\n",
    "\n",
    "\"geometry\":{\n",
    "  \"type\":\"MultiPoint\",\n",
    "  \"coordinates\": [-118.4, 33.9], [-118.5, 34.0]\n",
    "  }\n",
    "  \n",
    "LineString has an array of Point coordinates, like when we mapped the airline route from LAX to SFO.\n",
    "\n",
    "\"geometry\":{\n",
    "  \"type\":\"LineString\",\n",
    "  \"coordinates\": [[-118.4, 33.9],[-122.4, 37.6]]\n",
    "  }\n",
    "  \n",
    "MultiLineString are an array of LineString coordinates, like when we mapped the LAX-SFO-SLC-SEA airline route.\n",
    "\n",
    "\"geometry\":{\n",
    "  \"type\":\"MultiLineString\",\n",
    "  \"coordinates\":\n",
    "     [[-118.4, 33.9],[-106.4, 31.8]],\n",
    "     [[-118.4, 33.9],[-123.2, 44.1]]\n",
    "  }\n",
    "  \n",
    "Polygon has an array of LineString coordinates. We'll map polygons later in this module.\n",
    "\n",
    "\"geometry\": {\n",
    "   \"type\": \"Polygon\",\n",
    "    \"coordinates\":\n",
    "   [\n",
    "    [ [ -122.446, 37.861 ], [ -122.438, 37.868 ], [ -122.430, 37.872 ] ]\n",
    "   ]\n",
    "   \n",
    "MultiPolygon has an array of polygon coordinates. We'll map multiple polygons later in this module.\n",
    "\n",
    "\"geometry\": {\n",
    "   \"type\": \"MultiPolygon\",\n",
    "   \"coordinates\": [\n",
    "    [ [ -122.446, 37.861 ], [ -122.438, 37.868 ], [ -122.430, 37.872 ] ],\n",
    "    [ [ -122.378, 37.826 ], [ -122.377, 37.830 ], [ -122.369, 37.832 ] ]\n",
    "]\n",
    "\n",
    "GeometryCollection has a geometry array. Each element in the geometry array can be one of the geometry objects above.\n",
    "\n",
    "{\n",
    "   \"type\": \"GeometryCollection\",\n",
    "   \"geometries\": [\n",
    "       {\n",
    "         \"type\":\"Point\",\n",
    "       \"coordinates\": [-118.4, 33.9]\n",
    "      }\n",
    "       },\n",
    "       {\n",
    "          \"type\":\"LineString\",\n",
    "          \"coordinates\": [\n",
    "             [-118.4, 33.9],[-122.4, 37.6]\n",
    "           ]\n",
    "       }\n",
    "   ]\n",
    "}\n"
   ]
  },
  {
   "cell_type": "raw",
   "metadata": {},
   "source": [
    "Features Object\n",
    "\n",
    "GeoJSON features object contains a geometry object, like those above, and additional properties, such as magnitude, address, and time as shown below for an earthquake features object.\n",
    "\n",
    "{\n",
    "    type: \"Feature\",\n",
    "    properties: {\n",
    "    mag: 1.88,\n",
    "    place: \"6km SE of Pahala, Hawaii\",\n",
    "    time: 1573766377230,\n",
    "    type: \"earthquake\",\n",
    "    title: \"M 1.9 - 6km SE of Pahala, Hawaii\"\n",
    "    },\n",
    "    geometry: {\n",
    "    type: \"Point\",\n",
    "    coordinates: [\n",
    "    -155.4329987,\n",
    "    19.1634998\n",
    "    ]},\n",
    "  }"
   ]
  },
  {
   "cell_type": "raw",
   "metadata": {},
   "source": [
    "FeatureCollection Object\n",
    "\n",
    "A FeatureCollection object contains an array of features objects. In the following FeatureCollection of airline routes, there is an array of features objects where each feature has its own properties and geometry:\n",
    "\n",
    "{\"type\":\"FeatureCollection\",\"features\":\n",
    "[\n",
    "  {\n",
    "    \"type\":\"Feature\",\"properties\":{\n",
    "\"airline\":\"AA\",\"airline_id\":\"24\",\"src\":\"LAX\",\"dst\":\"ABQ\",\"dst_id\":\"4019\",\"stops\":\"0\",\"equipment\":\"CRJ CR7\"},\"geometry\":{\n",
    "\"type\":\"LineString\",\n",
    "\"coordinates\":[[-118.4079971,33.94250107],[-106.609001,35.040199]]}\n",
    "},\n",
    "{\n",
    "\"type\":\"Feature\",\"properties\":{\n",
    "\"airline\":\"AA\",\"airline_id\":\"24\",\"src\":\"LAX\",\"src_id\":\"3484\",\"dst\":\"ANC\",\"dst_id\":\"3774\",\"codeshare\":\"Y\",\"stops\":\"0\",\"equipment\":\"737\"},\"geometry\":{\n",
    "\"type\":\"LineString\",\n",
    "\"coordinates\":[[-118.4079971,33.94250107],[-149.99600219726562,61.174400329589844]]}\n",
    "  },\n",
    "{\n",
    "  \"type\":\"Feature\",\"properties\":{\n",
    "\"airline\":\"AA\",\"airline_id\":\"24\",\"src\":\"LAX\",\"src_id\":\"3484\",\"dst\":\"AUS\",\"dst_id\":\"3673\",\"codeshare\":\"\",\"stops\":\"0\",\"equipment\":\"M83 738\"},\"geometry\":{\n",
    "\"type\":\"LineString\",\n",
    "\"coordinates\":[[-118.4079971,33.94250107],[-97.6698989868164,30.194499969482422]]}\n",
    "  }\n",
    "]\n",
    "\n",
    "}"
   ]
  },
  {
   "cell_type": "raw",
   "metadata": {},
   "source": [
    "Now that you are familiar with the different GeoJSON objects, practice using these to map data to our map.\n",
    "\n",
    "13.5.2 Map GeoJSON Point Type\n",
    "\n",
    "First, we'll add single point on our map using GeoJSON data. The following GeoJSON data is a FeatureCollection object that has properties and geometry for the San Francisco Airport:\n",
    "\n",
    "// Add GeoJSON data.\n",
    "let sanFranAirport =\n",
    "{\"type\":\"FeatureCollection\",\"features\":[{\n",
    "    \"type\":\"Feature\",\n",
    "    \"properties\":{\n",
    "        \"id\":\"3469\",\n",
    "        \"name\":\"San Francisco International Airport\",\n",
    "        \"city\":\"San Francisco\",\n",
    "        \"country\":\"United States\",\n",
    "        \"faa\":\"SFO\",\n",
    "        \"icao\":\"KSFO\",\n",
    "        \"alt\":\"13\",\n",
    "        \"tz-offset\":\"-8\",\n",
    "        \"dst\":\"A\",\n",
    "        \"tz\":\"America/Los_Angeles\"},\n",
    "        \"geometry\":{\n",
    "            \"type\":\"Point\",\n",
    "            \"coordinates\":[-122.375,37.61899948120117]}}\n",
    "]};"
   ]
  },
  {
   "cell_type": "raw",
   "metadata": {},
   "source": [
    "Since we are going to add the San Francisco Airport to our map, let's change the center to the San Francisco Airport. Add the following code to our logic.js file to create the center of the map at the airport with a zoom level of \"10.\"\n",
    "\n",
    "// Create the map object with center at the San Francisco airport.\n",
    "let map = L.map('mapid').setView([37.5, -122.5], 10);"
   ]
  },
  {
   "cell_type": "raw",
   "metadata": {},
   "source": [
    "In the GeoJSON example (Links to an external site.) given on the Leaflet page, we can see that the simple GeoJSON feature is similar to our sanFranAirport.\n",
    "\n",
    "GeoJSON objects are added to the map through a GeoJSON layer, L.geoJSON(). In \"The GeoJSON Layer\" section, it says to create the GeoJSON layer and add it to our map. We can use the following code to do that:\n",
    "\n",
    "L.geoJSON(geojsonFeature).addTo(map);\n",
    "\n",
    "Let's edit this GeoJSON layer as follows:\n",
    "\n",
    "// Grabbing our GeoJSON data.\n",
    "L.geoJSON(sanFranAirport).addTo(map);\n",
    "\n",
    " add it to our logic.js file below the GeoJSON airport data and above the tileLayer()method. "
   ]
  },
  {
   "cell_type": "raw",
   "metadata": {},
   "source": [
    "Please note that the coordinates appear in reverse order [-122.375, 37.61899948120117], compared to their order in the setView() method. This is because the GeoJSON data coordinates are set with the first parameter as X (longitude) and the second parameter as Y (latitude), as documented in the GeoJSON Standard. (Links to an external site.) The L.geoJSON()layer reverses the coordinates to plot them on the map.\n",
    "\n",
    "Open the index.html file in your browser. Your map should have a marker at SFO.\n",
    "\n",
    "Later in this module we'll be using a URL to access a larger GeoJSON dataset to plot more points."
   ]
  },
  {
   "cell_type": "raw",
   "metadata": {},
   "source": [
    "Bind a Popup to the Marker\n",
    "\n",
    "To display data on a map with a popup marker, we have to bind the marker with the GeoJSON layer, L.geoJSON(), using a callback function.\n",
    "\n",
    "Our options to add data to a marker are to use the pointToLayer or onEachFeature callback functions. With either of these functions, we can add data to a map from each GeoJSON object. The major difference between the two functions is that the pointToLayer callback function adds markers to a map, whereas the onEachFeature callback function allows you to add styling and bind data to a popup marker.\n",
    "\n",
    "Let's look at these two functions more closely."
   ]
  },
  {
   "cell_type": "raw",
   "metadata": {},
   "source": [
    "The pointToLayer Function\n",
    "\n",
    "For the pointToLayer callback function, the basic syntax for adding functionality to a marker follows:\n",
    "\n",
    "L.geoJson(data, {\n",
    "    pointToLayer: function(feature, latlng) {\n",
    "      return L.marker(latlng);\n",
    "     }\n",
    "});\n",
    "\n",
    "Let's break down what is happening in the L.geoJSON() layer:\n",
    "\n",
    "1. We add two arguments: the data and the pointToLayer callback function.\n",
    "\n",
    "2. The data will be our sanFranAirport data.\n",
    "\n",
    "3. For the pointToLayer callback function, we are first going to call a function() where we pass each GeoJSON feature as feature, and its latitude and longitude as latlng.\n",
    "\n",
    "4. Then we add a marker for each feature with a latitude and longitude in the pointToLayer callback function argument by using return L.marker(latlng).\n"
   ]
  },
  {
   "cell_type": "raw",
   "metadata": {},
   "source": [
    "Even though we have a marker on the previous map, let's edit our logic.js file to add a marker using the pointToLayer function and add data to a popup marker.\n",
    "\n",
    "First, let's edit the logic.js file to add the pointToLayer callback function to the L.geoJSON() layer. \n",
    "\n",
    "To better understand what is passed with the feature argument in the function(), we will add feature in the console.log()function. Edit your L.geoJSON() layer code to look like the following:\n",
    "\n",
    "// Grabbing our GeoJSON data.\n",
    "L.geoJson(sanFranAirport, {\n",
    "    // We turn each feature into a marker on the map.\n",
    "    pointToLayer: function(feature, latlng) {\n",
    "      console.log(feature);\n",
    "      return L.marker(latlng);\n",
    "    }\n",
    "\n",
    "  }).addTo(map);\n",
    "\n",
    "Save your logic.js file and open the index.html file in your browser. The map should look the same as it did before the edits. However, if we open the console on our developer tools, we will see that the feature is the JavaScript object geometry and properties of our GeoJSON object.\n",
    "\n",
    "Now, we'll add the data in the JavaScript objects to a popup marker."
   ]
  },
  {
   "cell_type": "raw",
   "metadata": {},
   "source": [
    "The properties in each JavaScript object can be accessed using the dot notation.\n",
    "\n",
    "What Leaflet method is used to make a popup marker? \n",
    "bindPopup()"
   ]
  },
  {
   "cell_type": "raw",
   "metadata": {},
   "source": [
    "To add a popup marker, we need to use the bindPopup() method to the pointToLayer callback function. This will add a popup marker for each object in our GeoJSON data even though we only have one object in our data, SFO.\n",
    "\n",
    "Let's add the city to the popup marker. In our logic.js file, after the return L.marker(latlng) in our L.geoJSON() layer, add the following code on the next line:\n",
    "\n",
    ".bindPopup(\"<h2>\" + feature.properties.city + \"</h2>\")\n",
    "\n",
    "Using the dot notation, we can traverse through the JSON object to get the city by using feature.properties.city. Now, your logic.js file with L.geoJSON() layer should look like the following:\n",
    "\n",
    "Our map should look like the following, where a marker, when clicked, shows a city name:"
   ]
  },
  {
   "cell_type": "raw",
   "metadata": {},
   "source": [
    "SKILL DRILL\n",
    "\n",
    "Edit your logic.js to create a popup marker for San Francisco Airport on a night preview navigation map. When you click on the popup, it will display the city, state, and the name of the airport.\n",
    "\n",
    "\n",
    "see how below"
   ]
  },
  {
   "cell_type": "raw",
   "metadata": {},
   "source": [
    "The onEachFeature Function\n",
    "\n",
    "When we use the onEachFeature callback function we can add a popup marker for each feature and add data from the properties of the JavaScript object. The basic syntax for adding functionality to a marker follows:\n",
    "\n",
    "L.geoJson(data, {\n",
    "    onEachFeature: function(feature, layer) {\n",
    "      layer.bindPopup();\n",
    "     }\n",
    "});\n",
    "\n",
    "Let's break down what is happening in the L.geoJSON() layer:\n",
    "\n",
    "1. First, we add two arguments: the data and the onEachFeature callback function.\n",
    "\n",
    "2. The data will be our sanFranAirport data.\n",
    "\n",
    "3. With the onEachFeature callback function we are first going to call an anonymous function, function(), where we pass each GeoJSON feature as feature, and any properties to the second argument, layer."
   ]
  },
  {
   "cell_type": "raw",
   "metadata": {},
   "source": [
    "Let's edit our logic.js file to add a popup marker using the onEachFeature function. \n",
    "\n",
    "1. First, edit the logic.js file to add the onEachFeature callback function to the L.geoJSON() layer. \n",
    "\n",
    "2. To see what is passed with the layer argument in the anonymous function(), we'll pass layer in the console.log()function. \n",
    "\n",
    "3. Edit your L.geoJSON() layer code to look like the following:\n",
    "\n",
    "// Grabbing our GeoJSON data.\n",
    "L.geoJson(sanFranAirport, {\n",
    "  onEachFeature: function(feature, layer) {\n",
    "    console.log(layer);\n",
    "    layer.bindPopup();\n",
    "   } \n",
    "}).addTo(map);"
   ]
  },
  {
   "cell_type": "raw",
   "metadata": {},
   "source": [
    "13.5.3 Map Multiple GeoJSON Points\n",
    "\n",
    "Now that you have a handle on how to map GeoJSON point type and add data to a popup marker, Basil and Sadhana want you to fetch GeoJSON data from a URL. After all, this is how GeoJSON data is usually accessed, and this is how you will access the earthquake data.\n",
    "\n",
    "When mapping points, lines, and polygons, the data we use is accessed from a URL because this data is usually inaccessible for download or maybe too large to store on your computer and add as an external file.\n",
    "\n",
    "Download the majorAirports.json file and put it on the Mapping_Earthquakes repository.\n",
    "\n",
    "Using the URL for the majorAirports.json file in your GitHub repository, we'll add multiple points onto a map.\n",
    "\n",
    "When you click on the majorAirports.json file on GitHub, you should see an OpenStreetMap populated with major airports. Our map will look similar to this after we are done."
   ]
  }
 ],
 "metadata": {
  "kernelspec": {
   "display_name": "PythonData",
   "language": "python",
   "name": "pythondata"
  },
  "language_info": {
   "codemirror_mode": {
    "name": "ipython",
    "version": 3
   },
   "file_extension": ".py",
   "mimetype": "text/x-python",
   "name": "python",
   "nbconvert_exporter": "python",
   "pygments_lexer": "ipython3",
   "version": "3.7.7"
  }
 },
 "nbformat": 4,
 "nbformat_minor": 4
}
