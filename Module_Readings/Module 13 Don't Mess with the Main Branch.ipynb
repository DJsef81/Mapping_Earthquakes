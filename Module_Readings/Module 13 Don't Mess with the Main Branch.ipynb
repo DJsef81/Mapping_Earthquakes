{
 "cells": [
  {
   "cell_type": "raw",
   "metadata": {},
   "source": [
    "13.3.1 Add, Commit, and Push to a Branch\n",
    "\n",
    "Basil wants you to commit your changes to the Simple_Leaflet_Map branch so the team can review. If he says there are no changes to be made to your branch, then you can merge it with the main branch.\n",
    "\n",
    "What command do you use to see what branch you are on? \n",
    "git branch\n",
    "git status"
   ]
  },
  {
   "cell_type": "raw",
   "metadata": {},
   "source": [
    "First, we'll check to see if you're in the Simple_Leaflet_Map branch. In the command line, navigate to your Mapping_Earthquakes folder and type git branch. If the following output is returned with an asterisk next to the branch name, you're in the Simple_Leaflet_Map branch:\n",
    "\n",
    "* Simple_Leaflet_Map\n",
    "  main\n",
    "\n",
    "Just as we have checked the main branch status of other repositories, we'll do the same with the Simple_Leaflet_Map branch.\n",
    "\n",
    "What command do you use to check the status of a branch on the terminal or Git Bash?\n",
    "git status\n",
    "After typing git status, the command line should show the following:\n",
    "\n",
    "To see all the folders and files in the Simple_Map folder, type git status -u and press Enter. The output in the command line should look like the following:\n",
    "\n",
    "We don't want to add config.js file to the repo because our repository is public. This means the Mapbox API key would be available for anyone to copy and use, possibly causing us to incur charges.\n",
    "\n"
   ]
  },
  {
   "cell_type": "raw",
   "metadata": {},
   "source": [
    "What is the best practice to prevent the config.js file from being added (tracked) on GitHub? \n",
    "Add config.js to the .gitignore file.\n",
    "\n",
    "we'll add config.js to the .gitignore file so that GitHub doesn't track that file.\n",
    "\n",
    "In VS Code, create a new file in the Simple_Map folder and name it .gitignore. Your repository folder should look like the following:\n",
    "\n",
    "Next, add the following lines to the .gitignore file and save the file:\n",
    "\n",
    "# Ignore the config.js file.\n",
    "config.js\n",
    "\n",
    "In the command line, type git status - u and press Enter. The output should have the .gitignore file and all the files as before, except the config.js file. All the files in red will be tracked when we use git add, with the exception of the config.js file. \n",
    "\n"
   ]
  },
  {
   "cell_type": "raw",
   "metadata": {},
   "source": [
    "Next, we'll add these folders and files to the Simple_Leaflet_Map branch as we did for the main branch.\n",
    "\n",
    "After typing git push and pressing Enter, the output message will look like the following:\n",
    "\n",
    "no changes added to commit (use \"git add\" and/or \"git commit -a\")\n",
    "(base) josefanolin@josefs-MacBook-Pro-2 Mapping_Earthquakes % git push\n",
    "fatal: The current branch Simple_Leaflet_Map has no upstream branch.\n",
    "To push the current branch and set the remote as upstream, use\n",
    "\n",
    "    git push --set-upstream origin Simple_Leaflet_Map\n",
    "\n",
    "To push the folders and files to the Simple_Leaflet_Map branch for the first time, type git push --set-upstream origin Simple_Leaflet_Map in the command line and press Enter.\n",
    "\n",
    "NOTE\n",
    "To add any files after this initial push, type git push."
   ]
  },
  {
   "cell_type": "raw",
   "metadata": {},
   "source": [
    "Now all the folders and files are in the Mapping_Earthquakes repository in the Simple_Leaflet_Map branch. Confirm this by navigating to the repository and refreshing the page.\n",
    "\n",
    "We can see that we have created a new branch, indicated at the top. If we click the dropdown menu \"Branch: main\" in our repository, the Simple_Leaflet_Map branch appears.\n",
    "\n"
   ]
  },
  {
   "cell_type": "raw",
   "metadata": {},
   "source": [
    "13.3.2 Compare Branch to the main Branch\n",
    "\n",
    "The first step when merging a branch is to compare the changes between the Simple_Leaflet_Map branch and the main branch."
   ]
  },
  {
   "cell_type": "raw",
   "metadata": {},
   "source": [
    "To merge your Simple_Leaflet_Map branch with the main branch, we will:\n",
    "\n",
    "1. Compare the changes between the Simple_Leaflet_Map branch and the main branch so that we can merge them.\n",
    "\n",
    "2. If we are able to merge the Simple_Leaflet_Map branch into the main branch, we need to create a pull request on GitHub.\n",
    "\n",
    "3. After we review the pull request, we can merge the branch into the main branch."
   ]
  },
  {
   "cell_type": "raw",
   "metadata": {},
   "source": [
    "Let's compare the changes between our Simple_Leaflet_Map branch and the main branch:\n",
    "\n",
    "1. Navigate to your Mapping_Earthquake GitHub repository.\n",
    "\n",
    "2. To start merging your branch into the main branch, compare the branches to confirm they can be merged.\n",
    "\n",
    "NOTE\n",
    "If changes have been made in the main branch after you added your files to a branch, you might not be able to merge.\n",
    "\n",
    "3. You have two ways to compare your branch with the main branch:\n",
    "\n",
    "    - Click the green \"Compare & pull request\" button, or\n",
    "    - Click the gray \"New pull request\" button.\n",
    "(If you click the \"Compare & pull request\" button, skip to Step 5.)\n",
    "\n",
    "4. If you click the \"New pull request\" button, a new page will open with two buttons: \"base: main\" and \"compare: main.\" Compare the Simple_Leaflet_Map branch with the base or main branch.\n",
    "\n",
    "NOTE\n",
    "Developers and team members often refer to pull requests as \"PRs.\"\n",
    "\n",
    "5. The Compare changes page has two buttons: \"base: main\" and \"compare: main.\"\n",
    "\n",
    "Click on the \"compare: main\" button and select the branch you want to compare (the Simple_Leaflet_Map branch).\n",
    "\n"
   ]
  },
  {
   "cell_type": "raw",
   "metadata": {},
   "source": [
    "13.3.3 Create a Pull Request\n",
    "\n",
    "The next step is to create a pull request on GitHub. This step is essential when working with your Disaster Reporting Network team. It will allow Basil and Sadhana to review and run your code to verify there are no errors. If there are errors in your code, or if the code can be modified to be easier to read, then they will ask you to make changes. If your code looks good and there are no changes to be made, then you can merge your branch with the main branch.\n",
    "\n",
    "Let's walk through the process of creating a pull request. First, select the Simple_Leaflet_Map branch.\n",
    "\n",
    "Or, you can select the green \"Compare & pull request\" button.\n",
    "A new page called \"Open a pull request\" will launch.\n",
    "\n",
    "The page shows the five key elements of a pull request:\n",
    "\n",
    "1. Near the top of the page is a green checkmark and text stating \"Able to merge.\" If you're unable to merge, GitHub will display an explanatory message.\n",
    "\n",
    "2. Next is the commit message you made.\n",
    "\n",
    "3. \"Reviewers\" and \"Assignees\" are members, such as yourself, with access to the repository. You can assign the pull request to yourself. Labels, Projects, and Milestones are completed by team members and owners of the repository. \n",
    "Click on a gear wheel to modify any of these items.\n",
    "\n",
    "4. In the \"Leave a comment\" field, describe what you're adding to the main branch in the pull request.\n",
    "\n",
    "5. After entering a comment, click the green \"Create pull request\" button.\n",
    "\n",
    "Scroll below \"Open a pull request\" to see the files you're adding to the pull request."
   ]
  },
  {
   "cell_type": "raw",
   "metadata": {},
   "source": [
    "Write a message and create a pull request. In the \"Leave a comment\" field, type the following message:\n",
    "\n",
    "Adding the following folders and files to create a simple Leaflet map.\n",
    "- .gitignore\n",
    "- Simple_Map/index.html\n",
    "- Simple_Map/static/css/style.css\n",
    "- Simple_Map/static/js/logic.js"
   ]
  },
  {
   "cell_type": "raw",
   "metadata": {},
   "source": [
    "Reviewers can add a comment in the \"Leave a comment\" field. For example, Sadhana or Basil could type approval and further instructions: \"Looks good to me. You can merge.\" Once a reviewer approves your pull request in a comment, you can click the green Merge pull request button.\n",
    "\n",
    "If your code looks good, click the \"Merge pull request\" button.\n",
    "\n",
    "Don't navigate away from GitHub. Next, Sadhana will walk you through the final steps of merging your branch with the main branch."
   ]
  },
  {
   "cell_type": "raw",
   "metadata": {},
   "source": [
    "13.3.4 Merge Branch Into main Branch\n",
    "\n",
    "After clicking the \"Merge pull request\" button, the page will refresh with two options: \"Confirm merge\" or \"Cancel.\"\n",
    "\n",
    "Click the green \"Confirm merge\" button. The page refreshes to confirm, in three places, that the pull request has been merged into the main branch.\n",
    "\n",
    "This page gives the option of deleting the branch. However, don't delete it so that future interns can use it to create a simple Leaflet map.\n",
    "\n",
    "Navigate to the main branch on GitHub to confirm all the folders and files have been merged from the Simple_Leaflet_Map branch."
   ]
  }
 ],
 "metadata": {
  "kernelspec": {
   "display_name": "PythonData",
   "language": "python",
   "name": "pythondata"
  },
  "language_info": {
   "codemirror_mode": {
    "name": "ipython",
    "version": 3
   },
   "file_extension": ".py",
   "mimetype": "text/x-python",
   "name": "python",
   "nbconvert_exporter": "python",
   "pygments_lexer": "ipython3",
   "version": "3.7.7"
  }
 },
 "nbformat": 4,
 "nbformat_minor": 4
}
