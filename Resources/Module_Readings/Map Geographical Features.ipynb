{
 "cells": [
  {
   "cell_type": "raw",
   "metadata": {},
   "source": [
    "13.4.1 Map a Single Point\n",
    "\n",
    "\n",
    "Now that we can create a simple Leaflet map, we can plot data on the map. First, let's create a new branch. Sadhana suggests that we name this branch \"Mapping_Single_Points\" since we'll map single points."
   ]
  },
  {
   "cell_type": "raw",
   "metadata": {},
   "source": [
    "Follow these steps to create a branch off of the main branch:\n",
    "\n",
    "Navigate to your repository on your computer.\n",
    "Make sure you're on the main branch by typing: git branch\n",
    "If you're not on the main branch, type: git checkout main\n",
    "Pull the changes from the main branch by typing: git pull\n",
    "Create a new branch by typing: git checkout -b [name_of_your_new_branch]"
   ]
  },
  {
   "cell_type": "raw",
   "metadata": {},
   "source": [
    "In your new branch, we'll add a new folder inside the Mapping_Earthquakes folder. Since we're going to work with the same file names in the same folder structure, we'll use the same folder structure as we did for the Simple_Leaflet_Map branch.\n",
    "\n",
    "Set up the folder structure as follows: \n",
    "\n",
    "Mapping_Single_Points\n",
    "    - index.html\n",
    "    - static\n",
    "        - css\n",
    "            - style.css\n",
    "    - js\n",
    "        - config.js\n",
    "        - logic.js\n",
    " \n",
    "The two files that we'll change most often are the index.html and the logic.js files. Also, we might add an external file in the js folder. After checking out the new Mapping_Single_Points branch, copy all files from your Simple_Leaflet_Map folder and add them to a new Mapping_Single_Points folder..\n",
    "\n",
    "Next, push the latest changes to the Mapping_Single_Points branch to GitHub."
   ]
  },
  {
   "cell_type": "raw",
   "metadata": {},
   "source": [
    "REWIND\n",
    "Follow these steps to push changes to a new branch:\n",
    "\n",
    "Type: git status\n",
    "Add the folders and files by typing: git add .\n",
    "Confirm the correct files will be added by typing: git status\n",
    "Commit the changes by typing: git commit -m\n",
    "Push the changes to the branch by typing: git push --set-upstream origin Mapping_Single_Points\n",
    "\n",
    "Next, we'll edit the logic.js file to add single points or markers to the basic map.\n",
    "\n"
   ]
  },
  {
   "cell_type": "raw",
   "metadata": {},
   "source": [
    "Add a Marker to the Map\n",
    "\n",
    "Adding a marker to our simple map requires only one line of code, found in the Leaflet Quick Start Guide (Links to an external site.), under the \"Markers, circles and polygons\" subheading. Below the map is a line of code that reads as follows:\n",
    "\n",
    "var marker = L.marker([51.5, -0.09]).addTo(map);\n",
    "\n",
    "We're going to edit this line of code with the latitude and longitude for Los Angeles, California, and add it to our logic.js file that we used to create a simple map.\n",
    "\n"
   ]
  },
  {
   "cell_type": "raw",
   "metadata": {},
   "source": [
    "Open up the logic.js file using VS Code and add the following line of code before our tileLayer()code, and save the logic.js file:\n",
    "\n",
    "//  Add a marker to the map for Los Angeles, California.\n",
    "let marker = L.marker([34.0522, -118.2437]).addTo(map);\n",
    "\n",
    "Next, open the index.html file in your browser. Your map should look like the following:"
   ]
  },
  {
   "cell_type": "raw",
   "metadata": {},
   "source": [
    "Add a Circle to the Map\n",
    "\n",
    "To change the marker on our map to a point or dot, we'll use the circle() function. The circle() function will place a circle on the map at the given coordinates. The syntax for using the circle() function follows:\n",
    "\n",
    "L.circle([34.0522, -118.2437], {\n",
    "   radius: 100\n",
    "}).addTo(map);\n"
   ]
  },
  {
   "cell_type": "raw",
   "metadata": {},
   "source": [
    "When using the circle() function, the default is just a small dot on the map, but we want to adjust the radius so that it's bigger and easier to see. The radius for the circle() function is measured in meters.\n",
    "\n",
    "For the code above, add a circle with a 100-meter radius over Central Los Angeles when we assign a value to the radius key in the circle() function.\n",
    "\n",
    "Copy the code for the circle function and replace it with the marker() function we used previously. We're also going to zoom in to a level of 14 on the setView() method. After editing your logic.js file, it should look like the following: It WOULD if they said to change the center coordinates too... idiots\n",
    "\n",
    "When we open our index.html file in our browser, it will show a circle over Central Los Angeles.\n"
   ]
  },
  {
   "cell_type": "raw",
   "metadata": {},
   "source": [
    "SKILL DRILL\n",
    "\n",
    "Using the Leaflet documentation, create a light-yellow circle with black lines indicating a 300-meter radius of Central Los Angeles on a dark map.\n",
    "\n",
    "Alternatively, we can create a circle using the circleMarker() function. The circleMarker() function measures the radius of the circle in pixels, with the default radius set at 10 pixels. The syntax for using the circleMarker() function follows:\n",
    "\n",
    "L.circleMarker([34.0522, -118.2437]).addTo(map);\n",
    "\n",
    "Let's create a light-yellow circle with black lines indicating a 300-pixel radius on a dark map. Edit your logic.js file from the previous Skill Drill by changing your circle()function to a circleMarker()function. Your logic.js file should now look like the following:\n",
    "\n"
   ]
  },
  {
   "cell_type": "raw",
   "metadata": {},
   "source": [
    "If you didn't get the correct map style (Dark background) in the Skill Drill, replace the \"streets-v11\" in our tileLayer() code with \"dark-v10\" to look like the following:\n",
    "\n",
    "// We create the tile layer that will be the background of our map.\n",
    "let streets = L.tileLayer('https://api.mapbox.com/styles/v1/mapbox/dark-v10/tiles/{z}/{x}/{y}?access_token={accessToken}'\n",
    "\n",
    "Save yourlogic.js file and open your index.html file in our browser. The circle will show a 300-pixel radius of Central Los Angeles."
   ]
  },
  {
   "cell_type": "raw",
   "metadata": {},
   "source": [
    "Wow! What a big difference between the circle()and circleMarker()functions.\n",
    "\n",
    "Remember, it's a best practice to commit early and often! Before you commit your code for the Mapping_Single_Points branch to GitHub, check to see if all the files will be tracked in the branch.\n",
    "\n",
    "How would you check to see which files will be tracked in the branch? (Select all that apply)\n",
    "git status\n",
    "git status -u \n",
    "\n",
    "In the Mapping_Single_Points branch on the command line, type git status and you'll see that the logic.js file will be tracked:\n",
    "\n",
    "Great job! Now, commit and push these files to the Mapping_Single_Points branch. Don't delete the branch, so that others can use it to learn how to map single points.\n",
    "\n",
    "Next, Sadhana is going to show you how to add multiple locations to a map and change the radius of each marker."
   ]
  },
  {
   "cell_type": "raw",
   "metadata": {},
   "source": [
    "13.4.2 Map Multiple Points\n",
    "\n",
    "Before we plot multiple markers and points, Sadhana wants you to create a new branch for mapping multiple points.\n",
    "\n",
    "Create a new branch called \"Mapping_Multiple_Points\" with the same folder structure:\n",
    "\n"
   ]
  },
  {
   "cell_type": "raw",
   "metadata": {},
   "source": [
    "Add Multiple Markers\n",
    "\n",
    "When we added a single marker to our simple map, we assigned our marker variable to the Leaflet class marker() function. This function will only add one latitude and longitude to the map. To add more markers to the map, the latitudes and longitudes are usually nested in an array. To add a marker for each location, we have to iterate through the array and add each latitude and longitude to the map.\n",
    "\n",
    "First, in the logic.js file, replace the marker variable (which we used to map one location) with the cities variable that references the five most populous cities array in the following code block. Then save the file:\n",
    "\n",
    "// An array containing each city's location, state, and population.\n",
    "let cities = [{\n",
    "  location: [40.7128, -74.0059],\n",
    "  city: \"New York City\",\n",
    "  state: \"NY\",\n",
    "  population: 8398748\n",
    "},\n",
    "{\n",
    "  location: [41.8781, -87.6298],\n",
    "  city: \"Chicago\",\n",
    "  state: \"IL\",\n",
    "  population: 2705994\n",
    "},\n",
    "{\n",
    "  location: [29.7604, -95.3698],\n",
    "  city: \"Houston\",\n",
    "  state: \"TX\",\n",
    "  population: 2325502\n",
    "},\n",
    "{\n",
    "  location: [34.0522, -118.2437],\n",
    "  city: \"Los Angeles\",\n",
    "  state: \"CA\",\n",
    "  population: 3990456\n",
    "},\n",
    "{\n",
    "  location: [33.4484, -112.0740],\n",
    "  city: \"Phoenix\",\n",
    "  state: \"AZ\",\n",
    "  population: 1660272\n",
    "}\n",
    "];\n"
   ]
  },
  {
   "cell_type": "raw",
   "metadata": {},
   "source": [
    "Next, we need to iterate through each city object and add each city location to the marker() function, which will, in turn, be added to the map.\n",
    "\n",
    "How would you iterate through the cities array? (Select all that apply.)\n",
    "for (let i = 0; i < cities.length; i++)\n",
    "cities.forEach(function(city))\n"
   ]
  },
  {
   "cell_type": "raw",
   "metadata": {},
   "source": [
    "Below the cities array, add the following code to iterate through the array. Inside the brackets, use the console.log() function to print each object in the array to the console:\n",
    "\n",
    "// Loop through the cities array and create one marker for each city.\n",
    "cities.forEach(function(city) {\n",
    " console.log(city)\n",
    "});\n",
    "\n",
    "Save the logic.js file and open the index.html file in your browser.\n",
    "\n",
    "If we look at the console tab, we'll see that each object, or city, of the cities array is printed to the console.\n",
    "\n"
   ]
  },
  {
   "cell_type": "raw",
   "metadata": {},
   "source": [
    "Now, add each city's location to the map by adding the location to the marker() function.\n",
    "\n",
    "In the forEach() function, assign the city variable to each object of the cities.js file. Then, get the coordinates of each city by adding city.location in the L.marker() function. We can then add each location to the map with the addTo() function and pass themap object as the argument.\n",
    "\n",
    "Add the following code to your logic.js file and save it:\n",
    "\n",
    "// Loop through the cities array and create one marker for each city.\n",
    "cities.forEach(function(city) {\n",
    "    console.log(city)\n",
    "    L.marker(city.location).addTo(map);\n",
    "});\n",
    "\n",
    "When you open the index.html file in your browser, the map will show a marker on each city in the cities array.\n",
    "\n"
   ]
  },
  {
   "cell_type": "raw",
   "metadata": {},
   "source": [
    "When handling large datasets, it's a best practice to have the data in an external file and refer to that file and dataset in the logic.js file.\n",
    "\n",
    "Even though our cities array is not that large, let's create a new file in the \"js\" folder called cities.js. Cut the cities array data from the logic.js file, place it in the cities.js file, and save the file.\n",
    "\n",
    "Next, in the logic.js file, where the cities array was located, add a variable and assign it to the cities array. Add the following code to the logic.js file:\n",
    "\n",
    "// Get data from cities.js\n",
    "let cityData = cities;"
   ]
  },
  {
   "cell_type": "raw",
   "metadata": {},
   "source": [
    "Now the cities array is assigned to the cityData variable, which means we'll need to replace cities with cityData in our forEach() function. Edit the forEach() function so that it looks like the following and save the logic.js file:\n",
    "\n",
    "// Loop through the cities array and create one marker for each city.\n",
    "cityData.forEach(function(city) {\n",
    "    console.log(city)\n",
    "    L.marker(city.location).addTo(map);\n",
    "});"
   ]
  },
  {
   "cell_type": "raw",
   "metadata": {},
   "source": [
    "Now open the index.html in your browser to confirm these changes worked.\n",
    "\n",
    "Uh-oh! Something went wrong.\n",
    "\n",
    "After you inspect the page using the DevTools, the console might have an error message that says Uncaught ReferenceError: cities is not defined. This means the cities array data can't be found.\n",
    "\n",
    "To correct this error, in the body of the index.html file and before the path to the logic.js script, add a <script> file with the path to the JavaScript cities.js file, like this:\n",
    "\n",
    " <!-- Our JavaScript -->\n",
    " <script type=\"text/javascript\" src=\"static/js/cities.js\"></script>\n",
    " \n",
    " Now, when we open up the index.html in our browser, the map should look like it did before we created the cities.js file and edited thelogic.js and index.html files.\n"
   ]
  },
  {
   "cell_type": "raw",
   "metadata": {},
   "source": [
    "Bind a Popup to the Marker\n",
    "\n",
    "To add data from each object in the cities array, we'll use Leaflet's bindPopup() method on the marker() function. According to the guidance in the Quick Start Guide's \"Working with popups\" section, we only need to add HTML code inside the parentheses of the bindPopup() method:"
   ]
  },
  {
   "cell_type": "raw",
   "metadata": {},
   "source": [
    "In the logic.js file, edit the forEach function and add the bindPopup() method. Inside the parentheses of the bindPopup() method, we'll retrieve the name of the city, state, and population.\n",
    "\n",
    "Edit the forEach function to look like the following, save the logic.js file, and open the index.html file in your browser:\n",
    "\n",
    "// Loop through the cities array and create one marker for each city.\n",
    "cityData.forEach(function(city) {\n",
    "    console.log(city)\n",
    "    L.marker(city.location)\n",
    "    .bindPopup(\"<h2>\" + city.city + \", \" + city.state + \"</h2> <hr> <h3>Population \" + city.population + \"</h3>\")\n",
    "  .addTo(map);\n",
    "});\n",
    "\n",
    "Now, when we click on each marker, it will show the name, state, and population of the city.\n",
    "\n"
   ]
  },
  {
   "cell_type": "raw",
   "metadata": {},
   "source": [
    "Let's format the population with a thousands separator by using the toLocaleString() method on the city.population in the bindPopup() method, like this:\n",
    "\n",
    "// Loop through the cities array and create one marker for each city.\n",
    "cityData.forEach(function(city) {\n",
    "    console.log(city)\n",
    "    L.marker(city.location)\n",
    "    .bindPopup(\"<h2>\" + city.city + \", \" + city.state + \"</h2> <hr> <h3>Population \" + city.population.toLocaleString() + \"</h3>\")\n",
    "  .addTo(map);\n",
    "});\n",
    "\n",
    "Now our popup markers have the population formatted with a thousands separator."
   ]
  },
  {
   "cell_type": "raw",
   "metadata": {},
   "source": [
    "Next, change the marker for each city to a circle that has a radius equivalent to the city's population.\n",
    "\n",
    "In the logic.jsfile, we'll replace the marker() function with the circleMarker() function in the forEach() function. Then we'll assign the \"radius\" key to the population by using city.population.\n",
    "\n",
    "The forEach() function in our logic.js file should look like the following:\n",
    "\n",
    "After you save the logic.js file and open the index.html file in your browser, the radius is too large. "
   ]
  },
  {
   "cell_type": "raw",
   "metadata": {},
   "source": [
    "The problem with the map is that the radii are too large and don't fit on the map. To fix this, we'll have to decrease each city's radius so the circle markers fit on the map. In the logic.js file, divide the city.population value by \"100000\" to look like this:\n",
    "\n",
    "radius: city.population/100000\n",
    "\n",
    "Now when we open the map in our browser, the radius for each city looks proportional to the population.\n",
    "\n"
   ]
  },
  {
   "cell_type": "raw",
   "metadata": {},
   "source": [
    "SKILL DRILL \n",
    "\n",
    "Edit the logic.js file to create an orange circle popup marker for each city, with a lineweight of 4, a radius where the population number is decreased by 200,000,  that's on a dark map. When you click on the circle, the popup should display the city, state, and the population formatted with a thousands separator.\n",
    "\n",
    "// Loop through the cities array and create one marker for each city.\n",
    "cityData.forEach(function(city) {\n",
    "    console.log(city)\n",
    "    L.circleMarker(city.location, {\n",
    "        radius: city.population/200000,\n",
    "        color: \"orange\",\n",
    "        fillColor: \"#ffffa1\",\n",
    "        lineweight: 4\n",
    "    })"
   ]
  },
  {
   "cell_type": "raw",
   "metadata": {},
   "source": [
    "13.4.3 Map Lines\n",
    "\n",
    "On our Leaflet map, we can plot coordinates to create lines between locations, like transportation routes.\n",
    "\n",
    "Before we plot lines on a map, let's create a new branch called \"Mapping_Lines\" that has the same folder structure:"
   ]
  },
  {
   "cell_type": "raw",
   "metadata": {},
   "source": [
    "Map a Single Line\n",
    "\n",
    "Adding lines to a map requires that the coordinates for the starting and ending points be a one-dimensional array with two elements: latitude and longitude. To illustrate how lines are mapped, let's map the airline route from Los Angeles to San Francisco. Mapping airline routes will help us understand how tectonic plate data is added to a map.\n",
    "\n",
    "The starting point for our line will be the Los Angeles International Airport (LAX), with the coordinates [33.9416, -118.4085]. The ending point for our line will be the San Francisco International Airport (SFO), with the coordinates [37.6213, -122.3790].\n",
    "\n",
    "When we create a line in Leaflet, the starting and ending points and all coordinates along the route need to be in an array. We can assign the array to the line variable like this:\n",
    "\n",
    "// Coordinates for each point to be used in the line.\n",
    "let line = [\n",
    "  [33.9416, -118.4085],\n",
    "  [37.6213, -122.3790]\n",
    "];"
   ]
  },
  {
   "cell_type": "raw",
   "metadata": {},
   "source": [
    "Let's edit our logic.js file to create a line from LAX to SFO.\n",
    "\n",
    "First, change the coordinates for the center of the map to somewhere between LAX and SFO by adding [36.1733, -120.1794] in the setView() method.\n",
    "\n",
    "Change the zoom level in the setView() method to 7.\n",
    "\n",
    "Add the code above for our line below the map variable for the center of the map.\n",
    "\n",
    "Lastly, create a line on a map using the Leaflet polyline() function. Add the following line of code after the line variable:\n",
    "\n",
    "// Create a polyline using the line coordinates and make the line red.\n",
    "L.polyline(line, {\n",
    "  color: \"red\"\n",
    "}).addTo(map);\n",
    "\n"
   ]
  },
  {
   "cell_type": "raw",
   "metadata": {},
   "source": [
    "The added code should look like:\n",
    "\n",
    "// Create the map object with a center and zoom level.\n",
    "let map = L.map('mapid').setView([36.1733, -120.1794], 7);\n",
    "\n",
    "  // Coordinates for each point to be used in the line.\n",
    "let line = [\n",
    "  [33.9416, -118.4085],\n",
    "  [37.6213, -122.3790]\n",
    "];\n",
    "// Create a polyline using the line coordinates and make the line red.\n",
    "L.polyline(line, {\n",
    "  color: \"red\"\n",
    "}).addTo(map);\n",
    "\n",
    "Now we'll add a few more stops on our airline route.\n",
    "\n"
   ]
  },
  {
   "cell_type": "raw",
   "metadata": {},
   "source": [
    "Map Multiple Lines\n",
    "\n",
    "Let's edit the logic.js file and add two more airport stops to our line variable: Salt Lake City International Airport (SLC) and Seattle-Tacoma International Airport (SEA). Follow these steps: \n",
    "\n",
    "Edit the line variable in the logic.js file so that it includes the two new sets of coordinates.\n",
    "\n",
    "// Coordinates for each point to be used in the polyline.\n",
    "let line = [\n",
    "  [33.9416, -118.4085],\n",
    "  [37.6213, -122.3790],\n",
    "  [40.7899, -111.9791],\n",
    "  [47.4502, -122.3088]\n",
    "];\n",
    "\n",
    "Make the line yellow by editing the value for the \"color\" key in the polyline() function to yellow.\n",
    "\n",
    "// Create a polyline using the line coordinates and make the line black.\n",
    "L.polyline(line, {\n",
    "   color: \"yellow\"\n",
    "}).addTo(map);\n",
    "\n",
    "Change the map style to \"satellite-streets-v11.\" - NO mapbox/satellite-streets-v11\n",
    "\n",
    "Finally, change the center of the map to SFO and change the zoom to 5 so that we can see the line.\n",
    "\n",
    "// Create the map object with center at the San Francisco airport.\n",
    "let map = L.map('mapid').setView([37.6213, -122.3790], 5);\n"
   ]
  },
  {
   "cell_type": "raw",
   "metadata": {},
   "source": [
    "SKILL DRILL\n",
    "\n",
    "Edit your logic.js to create an airline route from SFO to John F. Kennedy International Airport (JFK) with two stops, Austin-Bergstrom International Airport (AUS) and Toronto Pearson International Airport (YYZ). Make the route a blue dashed line, with a weight of 4 and opacity of 0.5 on the light map.\n",
    "\n",
    "Hint: You'll need to find the coordinates for some of these airports.\n",
    "\n",
    "Bonus: Add your city or another city as a stopping point.\n",
    "\n"
   ]
  }
 ],
 "metadata": {
  "kernelspec": {
   "display_name": "PythonData",
   "language": "python",
   "name": "pythondata"
  },
  "language_info": {
   "codemirror_mode": {
    "name": "ipython",
    "version": 3
   },
   "file_extension": ".py",
   "mimetype": "text/x-python",
   "name": "python",
   "nbconvert_exporter": "python",
   "pygments_lexer": "ipython3",
   "version": "3.7.7"
  }
 },
 "nbformat": 4,
 "nbformat_minor": 4
}
