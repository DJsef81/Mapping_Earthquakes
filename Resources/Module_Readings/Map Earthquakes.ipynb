{
 "cells": [
  {
   "cell_type": "raw",
   "metadata": {},
   "source": [
    "13.6.1 Add Earthquake Data to a Map\n",
    "\n",
    "Now that you know how to access GeoJSON data, parse the data, and add it to a map, Sadhana would like you to map all recorded earthquakes in the past seven days. Once you get the data, you'll add some features to the map to showcase the severity of earthquakes for viewers. "
   ]
  },
  {
   "cell_type": "raw",
   "metadata": {},
   "source": [
    "As before, we need to set up a folder structure for our project in a new branch. Create a branch called \"Earthquakes_past7days.\" Copy the folders and files from one of your previous branches and add them to the Earthquakes_past7days folder."
   ]
  },
  {
   "cell_type": "raw",
   "metadata": {},
   "source": [
    "First, Sadhana wants you to rename the logic.js file to logicStep1.js. This way, each step has its own logic.js file that can be used by other interns in the future.\n",
    "\n",
    "Now we'll edit our logicStep1.js file to create a map with all recorded earthquakes from the past seven days.\\\n",
    "\n",
    "First, apply the streets and satelliteStreets map styles used for the GeoJSON polygon mapping. Change the text for the maps on the base layer to read as \"Streets\" and \"Satellite\" to look like the following:\n",
    "\n",
    "// Create a base layer that holds both maps.\n",
    "let baseMaps = {\n",
    "  \"Streets\": streets,\n",
    "  \"Satellite\": satelliteStreets"
   ]
  },
  {
   "cell_type": "raw",
   "metadata": {},
   "source": [
    "Change the center of our map to the geographic center of the United States using the coordinates [39.5, -98.5], with a zoom level of 3 and default layer streets. Our logicStep1.js file should look like the following:"
   ]
  },
  {
   "cell_type": "raw",
   "metadata": {},
   "source": [
    "Add the USGS URL for earthquake data by following these steps:\n",
    "\n",
    "1. Navigate to the USGS Hazards Program\n",
    "\n",
    "2. Click the Earthquakes link to open the following page:\n",
    "\n",
    "3. Click the Real-time Data Feeds link and scroll down until you see \"GeoJSON Summary Feed\":\n",
    "\n",
    "4. Click the GeoJSON Summary Feed link:\n",
    "\n",
    "5. On the right-hand side, click the All Earthquakes link under the \"Past 7 Days\" heading:\n",
    "    Nice work! The GeoJSON data will launch in your browser:\n",
    "\n",
    "\n"
   ]
  },
  {
   "cell_type": "raw",
   "metadata": {},
   "source": [
    "Review the GeoJSON earthquake data and answer the following questions.\n",
    "\n",
    "What type of geometry is the earthquake data?\n",
    "    - Point\n",
    "How would you get the magnitude of the earthquake?\n",
    "    - features[0].properties.mag\n",
    "How would you get the location (place) of the earthquake?\n",
    "    - features[0].properties.place\n",
    "    \n",
    "If we look closer at the geometry object, we'll see an additional data point in the coordinates object, 3.91, which is the depth of the earthquake in kilometers:\n",
    "\n"
   ]
  },
  {
   "cell_type": "raw",
   "metadata": {},
   "source": [
    "Copy the URL for the earthquake JSON data recorded for the past seven days, and add it in place of the previous URL in the d3.json() method. It should look like the following:\n",
    "\n",
    "// Retrieve the earthquake GeoJSON data.\n",
    "d3.json(\"https://earthquake.usgs.gov/earthquakes/feed/v1.0/summary/all_week.geojson\").then(function(data) {\n",
    "  // Creating a GeoJSON layer with the retrieved data.\n",
    "  L.geoJson(data).addTo(map);\n",
    "});\n",
    "\n",
    "After saving the logicStep1.js file and opening the index.html file in your browser, the map should look like the following. Make sure you are referring to the correct logic file in your index.html file:\n",
    "\n",
    "Let's make this data visually interesting by changing the marker to a circle with a radius representing the earthquake's magnitude, and then we'll style each earthquake data point."
   ]
  },
  {
   "cell_type": "raw",
   "metadata": {},
   "source": [
    "13.6.2 Add Style to the Earthquake Data\n",
    "\n",
    "Before we write the code to create this map, make a copy of the logicStep1.js file and name it logicStep2.js. Now let's edit the file.\n",
    "\n",
    "First, we'll change the basic marker to a circleMarker by using the pointToLayer function.\n",
    "\n",
    "For the pointToLayer callback function, the basic syntax for adding functionality to a marker is:\n",
    "\n",
    "L.geoJson(data, {\n",
    "pointToLayer: function(feature, latlng) {\n",
    "return L.marker(latlng);\n",
    "}\n",
    "});"
   ]
  },
  {
   "cell_type": "raw",
   "metadata": {},
   "source": [
    "For our purposes, we'll use circleMarker instead of marker in the above code. Edit your GeoJSON layer code to look like the following:\n",
    "\n",
    "// Creating a GeoJSON layer with the retrieved data.\n",
    "  L.geoJson(data, {\n",
    "\n",
    "// We turn each feature into a circleMarker on the map.\n",
    "\n",
    "pointToLayer: function(feature, latlng) {\n",
    "            console.log(data);\n",
    "            return L.circleMarker(latlng);\n",
    "        },\n",
    "    }).addTo(map);\n",
    "});\n",
    "\n",
    "Save the file and let's see what the data looks like on the map. The index.html file should look like the following:"
   ]
  },
  {
   "cell_type": "raw",
   "metadata": {},
   "source": [
    "Next, we'll create a style for each earthquake by adjusting the line color, fill color, opacity, fill opacity, stroke, weight, and radius.\n",
    "\n",
    "We'll create a function styleInfo(), which will contain all the style parameters for each earthquake plotted. Within this function, we'll create a getRadius() function to calculate the radius for each earthquake.\n",
    "\n",
    "Add the following function styleInfo() inside the d3.json() method:\n",
    "\n",
    "// This function returns the style data for each of the earthquakes we plot on\n",
    "// the map. We pass the magnitude of the earthquake into a function\n",
    "// to calculate the radius.\n",
    "function styleInfo(feature) {\n",
    "  return {\n",
    "    opacity: 1,\n",
    "    fillOpacity: 1,\n",
    "    fillColor: \"#ffae42\",\n",
    "    color: \"#000000\",\n",
    "    radius: getRadius(),\n",
    "    stroke: true,\n",
    "    weight: 0.5\n",
    "  };\n",
    "}\n",
    "\n",
    "Let's review the style we're creating for each earthquake:\n",
    "\n",
    "In the styleInfo() function, we passed the argument feature to reference each object's features.\n",
    "The opacity and fillOpacity are set at 1, the stroke is \"true,\" and the weight is 0.5.\n",
    "The fillColor is light orange, and the color is \"#000000\" (black).\n",
    "The getRadius() function retrieves the earthquake's magnitude. Next, we'll create the getRadius() function to calculate the radius of the circle from the magnitude.\n"
   ]
  },
  {
   "cell_type": "raw",
   "metadata": {},
   "source": [
    "In the getRadius() function for our styleInfo() function, add the following code to retrieve the earthquake's magnitude: feature.properties.mag."
   ]
  },
  {
   "cell_type": "raw",
   "metadata": {},
   "source": [
    "Next, we'll create the getRadius() function. Add the following code below the styleInfo() function:\n",
    "\n",
    "// This function determines the radius of the earthquake marker based on its magnitude.\n",
    "// Earthquakes with a magnitude of 0 will be plotted with a radius of 1.\n",
    "function getRadius(magnitude) {\n",
    "  if (magnitude === 0) {\n",
    "    return 1;\n",
    "  }\n",
    "  return magnitude * 4;\n",
    "}\n",
    "\n",
    "In the getRadius() function, we'll pass the magnitude argument that will reference the feature.properties.mag in the styleInfo() function. \n",
    "\n",
    "Then we'll use a conditional statement that sets the magnitude to 1 if the magnitude of the earthquake in the JSON file is 0 so that the earthquake is plotted on the map. \n",
    "\n",
    "If the magnitude is greater than 0, then the magnitude is multiplied by 4.\n",
    "\n",
    "Now, that we created our style, let's add it to the map."
   ]
  },
  {
   "cell_type": "raw",
   "metadata": {},
   "source": [
    "To add style to the L.geoJson() layer, the style key will be assigned to the styleInfo function we created. Make sure the code for your L.geoJson() layer looks like the following:\n",
    "\n",
    "// Creating a GeoJSON layer with the retrieved data.\n",
    "  L.geoJson(data, {\n",
    "\n",
    "// We turn each feature into a circleMarker on the map.\n",
    "\n",
    "pointToLayer: function(feature, latlng) {\n",
    "            console.log(data);\n",
    "            return L.circleMarker(latlng);\n",
    "        },\n",
    "      // We set the style for each circleMarker using our styleInfo function.\n",
    "    style: styleInfo\n",
    "    }).addTo(map);\n",
    "});"
   ]
  },
  {
   "cell_type": "raw",
   "metadata": {},
   "source": [
    "When you save your logicStep2.js file and open  index.html in your browser, your map will look like the following:\n",
    "\n",
    "Let's continue making the earthquake data visually appealing by styling colors to represent magnitudes as well as by adding informational popups."
   ]
  },
  {
   "cell_type": "raw",
   "metadata": {},
   "source": [
    "13.6.3 Add Color and a Popup for Each Earthquake\n",
    "\n",
    "Color range for the magnitude and a popup for each earthquake\n",
    "\n",
    "Before we write the code to create this map, make a copy of the logicStep2.js file and name it logicStep3.js. Now let's edit the file.\n",
    "\n",
    "First, we'll create a fill-color range for the magnitude. In the styleInfo() function, our fillColor was set with fillColor: \"#ffae42\". We'll replace the hexadecimal color code with the function getColor(). Inside the parentheses, we'll add the dot notation code to get the magnitude as we did for the getRadius() function, since we'll change the color of each earthquake marker based on the magnitude.\n",
    "\n"
   ]
  },
  {
   "cell_type": "raw",
   "metadata": {},
   "source": [
    "Add the getColor(feature.properties.mag) function for the fillColorso that our styleInfo() function looks like the following:\n",
    "\n",
    "// This function returns the style data for each of the earthquakes we plot on\n",
    "// the map. We pass the magnitude of the earthquake into two separate functions\n",
    "// to calculate the color and radius.\n",
    "function styleInfo(feature) {\n",
    "  return {\n",
    "    opacity: 1,\n",
    "    fillOpacity: 1,\n",
    "    fillColor: getColor(feature.properties.mag),\n",
    "    color: \"#000000\",\n",
    "    radius: getRadius(feature.properties.mag),\n",
    "    stroke: true,\n",
    "    weight: 0.5\n",
    "  };\n",
    "}"
   ]
  },
  {
   "cell_type": "raw",
   "metadata": {},
   "source": [
    "Now we need to write code for the getColor() function to change the marker's color based on the magnitude. For example, if the magnitude is greater than 5, it will be a certain color, if the magnitude is greater than 4, it will be a different color, and so on.\n",
    "\n",
    "What type of expression would we use for the getColor() function?\n",
    "Conditional expression"
   ]
  },
  {
   "cell_type": "raw",
   "metadata": {},
   "source": [
    "For the getColor() function, we'll write a conditional expression with logical operators for the magnitudes. Add the following getColor() function below the styleInfo() function and above the getRadius() function. Sadhana suggests using the following colors for the magnitudes since they'll be visible on the Satellite map:\n",
    "\n",
    "// This function determines the color of the circle based on the magnitude of the earthquake.\n",
    "function getColor(magnitude) {\n",
    "  if (magnitude > 5) {\n",
    "    return \"#ea2c2c\";\n",
    "  }\n",
    "  if (magnitude > 4) {\n",
    "    return \"#ea822c\";\n",
    "  }\n",
    "  if (magnitude > 3) {\n",
    "    return \"#ee9c00\";\n",
    "  }\n",
    "  if (magnitude > 2) {\n",
    "    return \"#eecc00\";\n",
    "  }\n",
    "  if (magnitude > 1) {\n",
    "    return \"#d4ee00\";\n",
    "  }\n",
    "  return \"#98ee00\";\n",
    "}\n",
    "\n",
    "Let's save our logicStep3.js file and open the index.html file in the browser to confirm our code is working. When we select the dark map, our map should look similar to the following map:\n",
    "\n"
   ]
  },
  {
   "cell_type": "raw",
   "metadata": {},
   "source": [
    "Now we need to edit the GeoJSON layer code to add the popup for the magnitude and location.\n",
    "\n",
    "What function are we going to use to add a popup for the circleMarker?\n",
    "onEachFeature"
   ]
  },
  {
   "cell_type": "raw",
   "metadata": {},
   "source": [
    "In the geoJson layer, we'll add the onEachFeature function to add a popup for each circle marker. Edit the L.geoJson() layer code to include the onEachFeature function with the bindPopup() method:\n",
    "\n",
    "// Creating a GeoJSON layer with the retrieved data.\n",
    "L.geoJson(data, {\n",
    "    // We turn each feature into a circleMarker on the map.\n",
    "    pointToLayer: function(feature, latlng) {\n",
    "        console.log(data);\n",
    "        return L.circleMarker(latlng);\n",
    "      },\n",
    "    // We set the style for each circleMarker using our styleInfo function.\n",
    "  style: styleInfo,\n",
    "    // We create a popup for each circleMarker to display the magnitude and\n",
    "    //  location of the earthquake after the marker has been created and styled.\n",
    "    onEachFeature: function(feature, layer) {\n",
    "    layer.bindPopup(\"Magnitude: \" + feature.properties.mag + \"<br>Location: \" + feature.properties.place);\n",
    "  }\n",
    "}).addTo(map);\n",
    "\n",
    "When you save the logicStep3.js file and open your index.html file in your browser, the Satellite map option will look like the following:\n",
    "\n",
    "Next, Sadhana will show you how to add the earthquake data as an overlay to the tile layer so that the data can be turned on and off by the viewer."
   ]
  },
  {
   "cell_type": "raw",
   "metadata": {},
   "source": [
    "13.6.4 Add Earthquake Data as an Overlay\n",
    "\n",
    "The earthquake map is looking great. Sadhana thinks that having the earthquake data as an overlay on both the Streets and Satellite tile layers, would be a nice added feature so users can turn the data on and off.\n",
    "\n",
    "Before we write the code to create this map, make a copy of the logicStep3.js file and name it logicStep4.js. Now, let's edit the file.\n",
    "\n",
    "Refer to Layer Groups and Layers Control (Links to an external site.) for guidance on how to add data as an overlay to the map.\n",
    "\n",
    "NOTE\n",
    "The base layers or tile layers, the Streets and Satellite, are mutually exclusive, and only one can be visible at a time on our map. Whereas, overlays are anything that you want to add to the map, which are \"laid over\" all the base layers and are visible all the time.\n",
    "\n",
    "In the example below, from the Layer Groups and Layers Control (Links to an external site.) page, we can add data to a LayerGroup class. In the example given, the cities variable is assigned to the layerGroup(). For our purposes, we'll use the earthquake data:"
   ]
  },
  {
   "cell_type": "raw",
   "metadata": {},
   "source": [
    "Let's create an overlay layer for our earthquake data. Add the following code to your logicStep4.js file below the code for the base layer that holds the two different map styles:\n",
    "\n",
    "// Create the earthquake layer for our map.\n",
    "let earthquakes = new L.layerGroup();"
   ]
  },
  {
   "cell_type": "raw",
   "metadata": {},
   "source": [
    "Next, define the overlay object to add it to the map. Add the following code below the earthquake layer group:\n",
    "\n",
    "// We define an object that contains the overlays.\n",
    "// This overlay will be visible all the time.\n",
    "let overlays = {\n",
    "  Earthquakes: earthquakes\n",
    "};"
   ]
  },
  {
   "cell_type": "raw",
   "metadata": {},
   "source": [
    "To add the overlay to the map, add the variable overlays to the Layers Control object. Edit the Layers Control object so that the overlays object will show up on the tile layers control:\n",
    "\n",
    "// Then we add a control to the map that will allow the user to change\n",
    "// which layers are visible.\n",
    "L.control.layers(baseMaps, overlays).addTo(map)"
   ]
  },
  {
   "cell_type": "raw",
   "metadata": {},
   "source": [
    "If we open the index.html file in our browser, we see that the earthquake data has loaded, but the earthquake overlay button is not on:\n",
    "\n",
    "To have the Earthquakes overlay button \"on,\" we need to:\n",
    "\n",
    "    - Replace the map variable in the addTo(map) function with earthquakes.\n",
    "    - Before the closing bracket and parenthesis of the d3.json()method we add the earthquake layer to the map, with         earthquakes.addTo(map);.\n",
    "\n",
    "Edit your addTo(map) function at the end of your L.geoJSON() layer code, as shown in the image to look like the following:\n",
    "\n",
    "  // We create a popup for each circleMarker to display the magnitude and\n",
    "  //  location of the earthquake after the marker has been created and styled.\n",
    "  onEachFeature: function(feature, layer) {\n",
    "  layer.bindPopup(\"Magnitude: \" + feature.properties.mag + \"<br>Location: \" + feature.properties.place);\n",
    "}\n",
    "}).addTo(earthquakes);\n",
    "\n",
    "// Then we add the eartquake layer to our map.\n",
    "earthquakes.addTo(map);\n",
    "  });\n",
    "\n",
    "Now, when we open the index.html file in our browser, we can see that the earthquake data has loaded and the earthquake overlay button is \"on\":\n",
    "\n",
    "Sadhana loves the map, but she thinks having a legend to indicate what magnitude is represented by each color would be helpful when viewing the map."
   ]
  },
  {
   "cell_type": "raw",
   "metadata": {},
   "source": [
    "13.6.5 Add a Legend to the Map\n",
    "\n",
    "Sadhana tells you that we can use the Leaflet choropleth examples page to help us write the code for the legend. On the choropleth examples page scroll down to the \"Custom Legend Control\" section:\n",
    "\n",
    "Before we write the code to create this map, make a copy of the logicStep4.js file and name it logicStep5.js. Now let's edit the file.\n"
   ]
  },
  {
   "cell_type": "raw",
   "metadata": {},
   "source": [
    "On the choropleth examples page, copy the code for the Custom Legend Control and paste it below the L.geoJSON() layer, where we add the earthquake layer to the map, earthquakes.addTo(map). Now, we'll edit the legend control object to suit our needs.\n",
    "\n",
    "var legend = L.control({position: 'bottomright'});\n",
    "\n",
    "legend.onAdd = function (map) {\n",
    "\n",
    "    var div = L.DomUtil.create('div', 'info legend'),\n",
    "        grades = [0, 10, 20, 50, 100, 200, 500, 1000],\n",
    "        labels = [];\n",
    "\n",
    "    // loop through our density intervals and generate a label with a colored square for each interval\n",
    "    for (var i = 0; i < grades.length; i++) {\n",
    "        div.innerHTML +=\n",
    "            '<i style=\"background:' + getColor(grades[i] + 1) + '\"></i> ' +\n",
    "            grades[i] + (grades[i + 1] ? '&ndash;' + grades[i + 1] + '<br>' : '+');\n",
    "    }\n",
    "\n",
    "    return div;\n",
    "};\n",
    "\n",
    "legend.addTo(map);"
   ]
  },
  {
   "cell_type": "raw",
   "metadata": {},
   "source": [
    "First, edit the code for the Leaflet control() object to look like the following. With this code, we'll place the legend at the indicated position—the bottom right:\n",
    "\n",
    "// Create a legend control object.\n",
    "let legend = L.control({\n",
    "  position: \"bottomright\"\n",
    "});"
   ]
  },
  {
   "cell_type": "raw",
   "metadata": {},
   "source": [
    "Next, remove the argument \"map\" from the legend function to look like the following:\n",
    "\n",
    "// Then add all the details for the legend.\n",
    "legend.onAdd = function() {\n",
    "  let div = L.DomUtil.create(\"div\", \"info legend\");\n",
    "};\n",
    "\n",
    "With this code, we're going to add a legend to the map with legend.onAdd. The legend will be added to a div element on the index.html file using the DomUtil utility function."
   ]
  },
  {
   "cell_type": "raw",
   "metadata": {},
   "source": [
    "Next, we're going to change the grades array in the Leaflet documentation to a magnitudes array, and we'll add a colors array that holds the colors for our magnitudes. Add the following code inside our legend.onAdd function:\n",
    "\n",
    "const magnitudes = [0, 1, 2, 3, 4, 5];\n",
    "const colors = [\n",
    "  \"#98ee00\",\n",
    "  \"#d4ee00\",\n",
    "  \"#eecc00\",\n",
    "  \"#ee9c00\",\n",
    "  \"#ea822c\",\n",
    "  \"#ea2c2c\"\n",
    "];"
   ]
  },
  {
   "cell_type": "raw",
   "metadata": {},
   "source": [
    "The final piece is to edit the for loop. The for loop will add the color choices from our colors array as a small box for the color of earthquakes and place the text of the magnitude range next to the box. Edit the for loop code to look like the following:\n",
    "\n",
    "// Looping through our intervals to generate a label with a colored square for each interval.\n",
    "   for (var i = 0; i < magnitudes.length; i++) {\n",
    "     console.log(colors[i]);\n",
    "     div.innerHTML +=\n",
    "       \"<i style='background: \" + colors[i] + \"'></i> \" +\n",
    "       magnitudes[i] + (magnitudes[i + 1] ? \"&ndash;\" + magnitudes[i + 1] + \"<br>\" : \"+\");\n",
    "  }\n",
    "   return div;\n",
    " };\n",
    "\n",
    " legend.addTo(map);\n",
    " \n",
    "Let's review what's happening in this for loop:\n",
    "\n",
    "1. After we iterate through the magnitudes, we'll add the color and text to the div element using div.innerHTML +=.\n",
    "\n",
    "2. For each iteration, we'll add a color from the colors array by styling the background of an <i> tag with color options.\n",
    "\n",
    "3. Next, we'll add the interval between earthquake magnitudes for our colors with the following code: magnitudes[i] + (magnitudes[i + 1] ? \"&ndash;\" + magnitudes[i + 1] + \"<br>\" : \"+\")."
   ]
  },
  {
   "cell_type": "raw",
   "metadata": {},
   "source": [
    "The last thing we need to do is style the legend using CSS. Below the JavaScript code for the legend is the CSS code. Copy the CSS code and add it our style.css file:\n",
    "\n",
    ".legend { \n",
    "  line-height:18px;\n",
    "  color: #555;\n",
    "}\n",
    "\n",
    ".legend i {\n",
    "  float: left;\n",
    "  width: 18px;\n",
    "  height: 18px;\n",
    "  margin-right: 8px;\n",
    "  opacity: 0.7;\n",
    "}"
   ]
  },
  {
   "cell_type": "raw",
   "metadata": {},
   "source": [
    "We won't edit the <i> tag of the .legend class (.legend i) in the style.css file, but let's edit our .legend class to create some padding around the legend, add a white background, and add a border radius. Edit your .legend class to look like the following:\n",
    "\n",
    ".legend {\n",
    "  padding: 10px;\n",
    "  line-height: 18px;\n",
    "  color: #555;\n",
    "  background-color: #fff;\n",
    "  border-radius: 5px;\n",
    "}"
   ]
  },
  {
   "cell_type": "raw",
   "metadata": {},
   "source": [
    "Our style.css file should now look like the following:\n",
    "\n",
    "html,\n",
    "body,\n",
    "#mapid {\n",
    "  width: 100%;\n",
    "  height: 100%;\n",
    "  padding: 0;\n",
    "  margin: 0;\n",
    "}\n",
    "\n",
    ".legend {\n",
    "  padding: 10px;\n",
    "  line-height:18px;\n",
    "  color: #555;\n",
    "  background-color: #fff;\n",
    "  border-radius: 5px;\n",
    "}\n",
    "\n",
    ".legend i {\n",
    "  float: left;\n",
    "  width: 18px;\n",
    "  height: 18px;\n",
    "  margin-right: 8px;\n",
    "  opacity: 0.7;\n",
    "}"
   ]
  },
  {
   "cell_type": "raw",
   "metadata": {},
   "source": [
    "Save your logicStep5.js and style.css files. When you open index.html in your browser, your map should have a legend on the bottom right:"
   ]
  },
  {
   "cell_type": "raw",
   "metadata": {},
   "source": [
    "steps for merging a branch into the main branch?\n",
    "\n",
    "1. Compare your branch with main with a pull request.\n",
    "\n",
    "2. The pull request says you are \"Able to merge.\"\n",
    "\n",
    "3. Create the pull request.\n",
    "\n",
    "4. Someone reviews the code and approves the pull request.\n",
    "\n",
    "5. Merge the pull request. \n"
   ]
  }
 ],
 "metadata": {
  "kernelspec": {
   "display_name": "PythonData",
   "language": "python",
   "name": "pythondata"
  },
  "language_info": {
   "codemirror_mode": {
    "name": "ipython",
    "version": 3
   },
   "file_extension": ".py",
   "mimetype": "text/x-python",
   "name": "python",
   "nbconvert_exporter": "python",
   "pygments_lexer": "ipython3",
   "version": "3.7.7"
  }
 },
 "nbformat": 4,
 "nbformat_minor": 4
}
