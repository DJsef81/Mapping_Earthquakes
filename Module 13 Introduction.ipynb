{
 "cells": [
  {
   "cell_type": "raw",
   "metadata": {},
   "source": [
    "13.0.1 Visualizing Earthquake Data\n",
    "\n",
    "Basic Project Plan\n",
    "\n",
    "Purpose\n",
    "The purpose of this project is to visually show the differences between the magnitudes of earthquakes all over the world for the last seven days.\n",
    "\n",
    "Tasks\n",
    "To complete this project, use a URL for GeoJSON earthquake data from the USGS website and retrieve geographical coordinates and the magnitudes of earthquakes for the last seven days. Then add the data to a map.\n",
    "\n",
    "Approach\n",
    "Your approach will be to use the JavaScript and the D3.js library to retrieve the coordinates and magnitudes of the earthquakes from the GeoJSON data. You'll use the Leaflet library to plot the data on a Mapbox map through an API request and create interactivity for the earthquake data.\n",
    "\n",
    "Now that you have an overview of the project plan, let's set up a Mapbox account and get the API token you'll need to create geographical maps."
   ]
  },
  {
   "cell_type": "raw",
   "metadata": {},
   "source": [
    "13.2.1 The Mapbox API\n",
    "\n",
    "Mapbox provides custom maps for websites and applications such as Strava, Facebook, the Financial Times, The Weather Channel, Snapchat, and Instacart. Since October 2019, Mapbox has been generating up to 14 billion individual sensor readings daily across 100,000 map updates on connected devices.\n",
    "\n",
    "To get started, register for a Mapbox account and get an API key.\n",
    "\n",
    "Now that you have your Mapbox API key, Sadhana will walk you through how to create a branch off the main branch where you'll add the code to create a simple map."
   ]
  },
  {
   "cell_type": "raw",
   "metadata": {},
   "source": [
    "13.2.2 Create a Branch on Your Repository\n",
    "\n",
    "Before you add your folders and files to the Mapping_Earthquakes folder, Basil would like you to create a GitHub branch for the basic map. \n",
    "\n",
    "Creating a branch off the main branch allows you to create a new feature, or change some part of the original code. Once he has reviewed your code on your branch, Sadhana will show you how to merge it with the main branch."
   ]
  },
  {
   "cell_type": "raw",
   "metadata": {},
   "source": [
    "\n",
    "Follow these steps to create a branch:\n",
    "\n",
    "1. Navigate to the repository folder on your computer.\n",
    "\n",
    "2. In Terminal on macOS or Git Bash on Windows, type git pull or git pull origin main and press Enter.\n",
    "\n",
    "3. Type git checkout -b Simple_Leaflet_Map and press Enter.\n",
    "- \"git checkout\" lets us navigate between branches.\n",
    "- \"-b\" indicates we are creating a new branch.\n",
    "- The name of the new branch follows -b.\n",
    "\n",
    "After pressing Enter, your terminal or Git Bash should return the following:\n",
    "\n",
    "Switched to a new branch 'Simple_Leaflet_Map'\n",
    "\n",
    "Now we are in the Simple_Leaflet_Map branch. Confirm this by typing \"git branch\" and pressing Enter. \n",
    "\n",
    "The output in Terminal or Git Bash should look as follows, with an asterisk next to the branch name:\n",
    "\n",
    "* Simple_Leaflet_Map\n",
    "  main\n",
    "  \n",
    "  At this point, the folder structure on your computer hasn't changed. The files you had in your main branch are now in your Simple_Leaflet_Map branch. Visually, the repository should look like the following:\n",
    "\n",
    "Next, we'll create a folder structure and write the code to create a simple map. When we are done, Sadhana will show us how to add folders and files to the Simple_Leaflet_Map branch."
   ]
  },
  {
   "cell_type": "raw",
   "metadata": {},
   "source": [
    "13.2.3 Create an HTML Page and CSS File\n",
    "\n",
    "Sadhana says to get familiar with the documentation for using Leaflet. \n",
    "\n",
    "Then, she's suggested you jump in and create an HTML and CSS file and add links to some stylesheets in the HTML file.\n",
    "\n",
    "Leaflet has a few links and simple HTML code that we will add to an index.html page.\n",
    "\n"
   ]
  },
  {
   "cell_type": "raw",
   "metadata": {},
   "source": [
    "The Leaflet JavaScript Library\n",
    "\n",
    "On the Leaflet homepage, scroll midpage and click the Leaflet Quick Start Guide link:\n",
    "\n",
    "The Leaflet Quick Start Guide provides steps for setting up a Leaflet map. To begin, scroll midpage to the \"Preparing your page\" section:\n",
    "\n",
    "The \"Preparing your page\" section includes links and HTML code that we'll add to our index.html page. First, we'll create a folder structure for our earthquake map webpage.\n",
    "\n"
   ]
  },
  {
   "cell_type": "raw",
   "metadata": {},
   "source": [
    "Create an HTML Page\n",
    "\n",
    "Open your Mapping_Earthquakes repository folder in Visual Studio Code (VS Code). \n",
    "Create a new folder called \"Simple_Map.\" \n",
    "Inside the folder, create a new index.html file. \n",
    "Next, create a template for your index.html file.\n",
    "\n"
   ]
  },
  {
   "cell_type": "raw",
   "metadata": {},
   "source": [
    "In our index.html file, we'll change the document title and add the code from the \"Preparing your page\" section.\n",
    "\n",
    "1. Change the document title in the <title> element in the <head> section (<title>Document</title>) to \"Leaflet-Basic-Map.\"\n",
    "\n",
    "2. In the <head> section, just below the <title> element, add the following Leaflet CSS script from the \"Preparing your page\" section:\n",
    "\n",
    "<!-- Leaflet CSS -->\n",
    "<link rel=\"stylesheet\" href=\"https://unpkg.com/leaflet@1.6.0/dist/leaflet.css\" integrity=\"sha512-xwE/Az9zrjBIphAcBb3F6JVqxf46+CDLwfLMHloNu6KEQCAWi6HcDUbeOfBIptF7tcCzusKFjFw2yuvEpDL9wQ==\"\n",
    "    crossorigin=\"\"/>\n",
    "    \n",
    "3. In the body of our index.html file, add the Leaflet JavaScript script and id tag for the map inside a <div> element, as shown in the \"Preparing your page\" section:\n",
    "\n",
    "<!-- Leaflet JavaScript -->\n",
    "<script src=\"https://unpkg.com/leaflet@1.6.0/dist/leaflet.js\"\n",
    "integrity=\"sha512-gZwIG9x3wUXg2hdXF6+rVkLF/0Vi9U8D2Ntg4Ga5I5BZpVkVxlJWbSQtXPSiUTtC0TjtGOmxa1AJPuV0CPthew==\"\n",
    "   crossorigin=\"\"></script>\n",
    "   \n",
    "4. Above the Leaflet JavaScript link script, add the following <div> element with the id tag for the map:\n",
    "\n",
    "<!-- The div that holds our map -->\n",
    "<div id=\"mapid\"></div>"
   ]
  },
  {
   "cell_type": "raw",
   "metadata": {},
   "source": [
    "Next, we will modify our #mapid to be set at a specific height using CSS code. To do this, we'll need to create a style.css file.\n",
    "\n",
    "Create a CSS File\n",
    "\n",
    "Before we create a style.css file, we'll need to create a folder for the file. In VS Code, create a new subfolder called \"static\" in our Simple_Map folder. In this folder, create another subfolder named \"css.\" In the css folder, create a new file and name it style.css:\n",
    "\n",
    "Next, add the following CSS code to our style.css file to set the style for our map on our index.html page and save the file:\n",
    "\n",
    "html,\n",
    "body,\n",
    "#mapid {\n",
    "  width: 100%;\n",
    "  height: 100%;\n",
    "  padding: 0;\n",
    "  margin: 0;\n",
    "}\n",
    "\n",
    "#mapid references the id tag on the index.html file."
   ]
  },
  {
   "cell_type": "raw",
   "metadata": {},
   "source": [
    "Finally, we need to tell our index.html page to use the style.css file we created.\n",
    "\n",
    "In the <head> section of our index.html page, add the following CSS link script below the Leaflet CSS and before the closing </head> element:\n",
    "\n",
    "<!-- Our CSS -->\n",
    "  <link rel=\"stylesheet\" type=\"text/css\" href=\"static/css/style.css\">\n",
    "  \n",
    "Next, we'll create the code for a simple map."
   ]
  },
  {
   "cell_type": "raw",
   "metadata": {},
   "source": [
    "13.2.4 Create a Simple Map\n",
    "\n",
    "Now that you have added stylesheet links to your HTML page and CSS file, Sadhana will help you add the last two files you'll need to create a simple map—the config.js file for your API token and the logic.js file for your JavaScript and Leaflet code.\n",
    "\n",
    "To create a map, we'll need to add two final pieces to our Simple_Map folder:\n",
    "\n",
    "The config.js file, which will hold our Mapbox API key.\n",
    "The logic.js file, which will contain all the JavaScript and Leaflet code to create the map and add data to the map."
   ]
  },
  {
   "cell_type": "raw",
   "metadata": {},
   "source": [
    "Add the config.js File\n",
    "\n",
    "In our Simple_Map folder, add a new folder in the static folder called \"js.\" In the js folder, create a new file and name it config.js. This file will hold our Mapbox API key.\n",
    "\n",
    "On the first line of the config.js file, add the following code:\n",
    "\n",
    "// API key\n",
    "const API_KEY = \"\";\n",
    "\n",
    "Add your Mapbox API key between the quotations and save the file.\n",
    "\n"
   ]
  },
  {
   "cell_type": "raw",
   "metadata": {},
   "source": [
    "Add the logic.js File\n",
    "\n",
    "Next, in the js folder, create a new file and name it, logic.js. Now we'll add some boilerplate code to the logic.js file. Most of this code can be reused for many of the maps we'll create later on in this module.\n",
    "\n",
    "On the first line, add the following code:\n",
    "\n",
    "// Add console.log to check to see if our code is working.\n",
    "console.log(\"working\");\n",
    "\n",
    "The console.log() function with the phrase \"working\" inside the parentheses will help us confirm that our logic.js file is being accessed in the console on Chrome."
   ]
  },
  {
   "cell_type": "raw",
   "metadata": {},
   "source": [
    "Add a Map Object\n",
    "\n",
    "Next, we'll add the map object, as shown on the Leaflet Quick Start Guide page with some slight modifications. We'll change the geographical center of the map to the approximate geographical center of the United States.\n",
    "\n",
    "// Create the map object with a center and zoom level.\n",
    "let map = L.map('mapid').setView([40.7, -94.5], 4);\n",
    "\n",
    "In the code block above:\n",
    "\n",
    "1. We're assigning the variable map to the object L.map(), and we'll instantiate the object with the given string 'mapid'.\n",
    "\n",
    "2. The mapid will reference the id tag in our <div> element on the index.html file.\n",
    "\n",
    "3. The setView() method sets the view of the map with a geographical center, where the first coordinate is latitude (40.7) and the second is longitude (-94.5). We set the zoom level of \"4\" on a scale 0–18.\n"
   ]
  },
  {
   "cell_type": "raw",
   "metadata": {},
   "source": [
    "An alternative to using the setView() method is to modify each attribute in the map object using the curly braces notation as follows:\n",
    "\n",
    "// Create the map object with a center and zoom level.\n",
    "let map = L.map(\"mapid\", {\n",
    "  center: [\n",
    "    40.7, -94.5\n",
    "  ],\n",
    "  zoom: 4\n",
    "});\n",
    "\n",
    "This method is useful when we need to add multiple tile layers, or a background image of our map(s), which we will do later in this module.\n",
    "\n"
   ]
  },
  {
   "cell_type": "raw",
   "metadata": {},
   "source": [
    "Add a Tile Layer for Our Map\n",
    "\n",
    "Now, we will add the map tile layer method to the logic.js file. \n",
    "\n",
    "The tile layer is used to load and display a tile layer on the map. We have two options to create a tile layer.\n"
   ]
  },
  {
   "cell_type": "raw",
   "metadata": {},
   "source": [
    "Use the Leaflet Documentation (original reading token was broken. replaced with new one on leaflet)\n",
    "\n",
    "The Leaflet Quick Start Guide (Links to an external site.) provides the tileLayer() code:\n",
    "\n",
    "We can copy this tile layer code and assign it to the streets variable, since the tile layer will create a street-level map. \n",
    "\n",
    "Add the following code block to your logic.js file:\n",
    "\n",
    "// We create the tile layer that will be the background of our map.\n",
    "let streets = L.tileLayer('https://api.mapbox.com/styles/v1/{id}/tiles/{z}/{x}/{y}?access_token={accessToken}', {\n",
    "    attribution: 'Map data &copy; <a href=\"https://www.openstreetmap.org/copyright\">OpenStreetMap</a> contributors, Imagery © <a href=\"https://www.mapbox.com/\">Mapbox</a>',\n",
    "    maxZoom: 18,\n",
    "    id: 'mapbox/streets-v11',\n",
    "    tileSize: 512,\n",
    "    zoomOffset: -1,\n",
    "    accessToken: API_KEY\n",
    "});\n",
    "\n",
    "// Then we add our 'graymap' tile layer to the map.\n",
    "streets.addTo(map);"
   ]
  },
  {
   "cell_type": "raw",
   "metadata": {},
   "source": [
    "Let's break down what's happening in this code block:\n",
    "\n",
    "1. We assign the tileLayer() method, as shown in the Quick Start Guide's \"Setting up the map\" section to the variable streets. Leaflet doesn't provide a tile layer. Instead, it offers various tile layer APIs.\n",
    "\n",
    "2. The following URLs appear in the parentheses of our tileLayer() method:\n",
    "    - The API URL with a reference to the accessToken\n",
    "    - The OpenStreetMap URL inside the curly braces of our tileLayer() method\n",
    "\n",
    "3. We add the maxZoom attribute and assign it a value of 18.\n",
    "\n",
    "4. We add the id attribute and assign it mapbox.streets, which will show the streets on the map.\n",
    "\n",
    "5. We add the accessToken attribute and assign it the value of our API_KEY.\n",
    "\n",
    "6. Finally, we call the addTo() function with our map object, map on our graymap object tile layer. The addTo() function will add the graymap object tile layer to our let map.\n",
    "\n",
    "To change the map's style, change the map id using the list of Mapbox ids below:\n",
    "\n",
    "mapbox.streets\n",
    "mapbox.light\n",
    "mapbox.dark\n",
    "mapbox.satellite\n",
    "mapbox.streets-satellite\n",
    "mapbox.wheatpaste\n",
    "mapbox.streets-basic\n",
    "mapbox.comic\n",
    "mapbox.outdoors\n",
    "mapbox.run-bike-hike\n",
    "mapbox.pirates\n",
    "mapbox.emerald\n",
    "mapbox.high-contrast\n",
    "\n",
    "NOTE\n",
    "Although this API URL still works with the different map styles above, the user documentation is no longer on the Mapbox website. Instead, edit the URL and use the Styles API for the type of map you want. Refer to the instructions below and on the Mapbox website.\n",
    "\n"
   ]
  },
  {
   "cell_type": "raw",
   "metadata": {},
   "source": [
    "Next, we'll add the logic.js and config.js scripts to the HTML page.Use the Mapbox Styles API\n",
    "\n",
    "To use the Mapbox Styles API, edit the URL in the Leaflet tilelayer()method, as detailed on the Leaflet website:\n",
    "\n",
    "1. First, navigate to the Mapbox Glossary (Links to an external site.).\n",
    "\n",
    "2. Search the Static Tiles API (Links to an external site.).\n",
    "\n",
    "3. Copy this part of the URL:\n",
    "https://api.mapbox.com/styles/v1/mapbox/streets-v11/tiles/.\n",
    "\n",
    "4. In your tileLayer() code, replace this part of the URL, https://api.tiles.mapbox.com/v4/{id}/, with the Mapbox Styles API URL you copied.\n",
    "\n",
    "5. Remove the .png from the URL.\n",
    "\n",
    "6. Remove the id attribute and the map style reference.\n",
    "\n",
    "7. The code for the tileLayer() should look like the following:\n",
    "\n",
    "// We create the tile layer that will be the background of our map.\n",
    "let streets = L.tileLayer('https://api.mapbox.com/styles/v1/mapbox/streets-v11/tiles/{z}/{x}/{y}?access_token={accessToken}', {\n",
    "attribution: 'Map data © <a href=\"https://www.openstreetmap.org/\">OpenStreetMap</a> contributors, <a href=\"https://creativecommons.org/licenses/by-sa/2.0/\">CC-BY-SA</a>, Imagery (c) <a href=\"https://www.mapbox.com/\">Mapbox</a>',\n",
    "    maxZoom: 18,\n",
    "    accessToken: API_KEY\n",
    "});\n",
    "\n",
    "// Then we add our 'graymap' tile layer to the map.\n",
    "streets.addTo(map);\n",
    "\n",
    "If you have trouble editing the URL, copy the URL above.\n",
    "\n",
    "8. To change your map style, click on the Static Tiles API documentation (Links to an external site.) link on the Static Tiles API page.\n",
    "\n",
    "9. On the left sidebar, click on the Styles (Links to an external site.) link.\n",
    "\n",
    "10. Below the Styles subheading, find a list of different Mapbox styles.\n",
    "\n",
    "11. To change the map style, use the style given in the URLs (e.g., \"streets-v11,\" \"dark-v10,\" etc.).\n",
    "\n",
    "For the rest of this module, we'll use the Static Tiles API format in the Leaflet tileLayer() method.\n",
    "\n",
    "Next, we'll add the logic.js and config.js scripts to the HTML page."
   ]
  },
  {
   "cell_type": "raw",
   "metadata": {},
   "source": [
    "Add JavaScript Tags to HTML Page\n",
    "\n",
    "The last step is to allow our index.html file to use the logic.js and config.js scripts. To do this, open up the index.html file and add the following <script> elements below the Leaflet JavaScript link script and above the closing </body> element, and save the file.\n",
    "\n",
    "<!-- API key -->\n",
    "<script type=\"text/javascript\" src=\"static/js/config.js\"></script>\n",
    "<!-- Our JavaScript -->\n",
    "<script type=\"text/javascript\" src=\"static/js/logic.js\"></script>\n",
    "Your index.html file should look like the following after adding all the elements to the head and body sections:\n",
    "\n"
   ]
  },
  {
   "cell_type": "raw",
   "metadata": {},
   "source": [
    "Your index.html file should look like the following after adding all the elements to the head and body sections:\n",
    "    \n",
    "<!DOCTYPE html>\n",
    "<html lang=\"en\">\n",
    "<head>\n",
    "    <meta charset=\"UTF-8\">\n",
    "    <meta name=\"viewport\" content=\"width=device-width, initial-scale=1.0\">\n",
    "    <title>Leaflet-Basic-Map</title>\n",
    "    <!-- Leaflet CSS -->\n",
    "    <link rel=\"stylesheet\" href=\"https://unpkg.com/leaflet@1.6.0/dist/leaflet.css\" \n",
    "  integrity=\"sha512-xwE/Az9zrjBIphAcBb3F6JVqxf46+CDLwfLMHloNu6KEQCAWi6HcDUbeOfBIptF7tcCzusKFjFw2yuvEpDL9wQ==\"\n",
    "  crossorigin=\"\"/>\n",
    "       \n",
    "    <!-- Our CSS -->\n",
    "    <link rel=\"stylesheet\" type=\"text/css\" href=\"static/css/style.css\">\n",
    "\n",
    "</head>\n",
    "<body>\n",
    "\n",
    "    <!-- The div that holds our map -->\n",
    "    <div id=\"mapid\"></div>\n",
    "\n",
    "    <!-- Leaflet JavaScript -->\n",
    "  <script src=\"https://unpkg.com/leaflet@1.6.0/dist/leaflet.js\"\n",
    "  integrity=\"sha512-gZwIG9x3wUXg2hdXF6+rVkLF/0Vi9U8D2Ntg4Ga5I5BZpVkVxlJWbSQtXPSiUTtC0TjtGOmxa1AJPuV0CPthew==\"\n",
    "  crossorigin=\"\"></script>\n",
    "   \n",
    " <!-- API key -->\n",
    " <script type=\"text/javascript\" src=\"static/js/config.js\"></script>\n",
    " <!-- Our JavaScript -->\n",
    " <script type=\"text/javascript\" src=\"static/js/logic.js\"></script>\n",
    "\n",
    "</body>\n",
    "</html>   "
   ]
  },
  {
   "cell_type": "raw",
   "metadata": {},
   "source": [
    "Open the Map in the Browser\n",
    "\n",
    "Now, open the index.html file.\n",
    "\n",
    "REWIND\n",
    "To open the index.html file in the browser:\n",
    "\n",
    "Open the command line and navigate to your Mapping_Earthquakes folder. The index.html file should be in the top-level of that folder.\n",
    "\n",
    "On the command line, type python -m http.server and press Enter."
   ]
  }
 ],
 "metadata": {
  "kernelspec": {
   "display_name": "PythonData",
   "language": "python",
   "name": "pythondata"
  },
  "language_info": {
   "codemirror_mode": {
    "name": "ipython",
    "version": 3
   },
   "file_extension": ".py",
   "mimetype": "text/x-python",
   "name": "python",
   "nbconvert_exporter": "python",
   "pygments_lexer": "ipython3",
   "version": "3.7.7"
  }
 },
 "nbformat": 4,
 "nbformat_minor": 4
}
